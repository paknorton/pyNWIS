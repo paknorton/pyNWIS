{
 "cells": [
  {
   "cell_type": "code",
   "execution_count": 7,
   "metadata": {},
   "outputs": [],
   "source": [
    "try:\n",
    "    # Try importing assuming Python 3.x first\n",
    "    # from urllib.parse import urlparse, urlencode\n",
    "    from urllib.request import urlopen, Request\n",
    "    from urllib.error import HTTPError\n",
    "except ImportError:\n",
    "    # Otherwise fallback to Python 2.x\n",
    "    # from urlparse import urlparse\n",
    "    # from urllib import urlencode\n",
    "    from urllib2 import urlopen, Request, HTTPError\n",
    "    \n",
    "from bs4 import BeautifulSoup"
   ]
  },
  {
   "cell_type": "code",
   "execution_count": 2,
   "metadata": {
    "collapsed": true
   },
   "outputs": [],
   "source": [
    "# https://waterdata.usgs.gov/nwis/wys_rpt/?site_no=04115000\n",
    "base_url = 'http://waterdata.usgs.gov/nwis/wys_rpt?site_no={}'\n",
    "\n",
    "sitetmp = ['04010500', '04024000', '04027000', '04027500']\n",
    "\n",
    "# List of stations to retrieve\n",
    "site_list = ['04010500', '04024000', '04027000', '04027500', '04036000', '04037500', '04040000', '04040500', \n",
    "             '04041500', '04045500', '04056500', '04057800', '04059000', '04059500', '04060993', '04062000', \n",
    "             '04062500', '04063000', '04063500', '04069500', '04071000', '04073500', '04079000', '04086000', \n",
    "             '04087000', '04099000', '04100500', '04101000', '04101500', '04102500', '04105000', '04105500', \n",
    "             '04106400', '04109000', '04112000', '04112500', '04113000', '04115000', '04116000', '04117500', \n",
    "             '04119000', '04121500', '04122200', '04122500', '04124000', '04127997', '04128990', '04136500', \n",
    "             '04142000', '04144500', '04146000', '04148500', '04151500', '04154000', '04156000', '04159492', \n",
    "             '04161540', '04164000', '04164100', '04164300', '04164500', '04165500', '04166000', '04166100', \n",
    "             '04166300', '04166500', '04168000', '04172000', '04174500', '04176500', '04185000', '04186500', \n",
    "             '04189000', '04191500', '04193500', '04195500', '04198000', '04200500', '04201500', '04206000', \n",
    "             '04208000', '04213000', '04215500', '04216000', '04223000', '04227500', '04228500', '04230500', \n",
    "             '04231000', '04231600', '04234000', '04235000', '04237496', '04239000', '04243500', '04249000', \n",
    "             '04252500', '04256000', '04258000', '04260500', '04262500', '04263000', '04264331']"
   ]
  },
  {
   "cell_type": "code",
   "execution_count": 3,
   "metadata": {
    "collapsed": true
   },
   "outputs": [],
   "source": [
    "# Open NWIS waterdata service\n",
    "streamgagesPage = urlopen(base_url.format('04115000'))"
   ]
  },
  {
   "cell_type": "code",
   "execution_count": 4,
   "metadata": {
    "collapsed": true
   },
   "outputs": [],
   "source": [
    "something = streamgagesPage.read()"
   ]
  },
  {
   "cell_type": "code",
   "execution_count": 8,
   "metadata": {},
   "outputs": [],
   "source": [
    "soup = BeautifulSoup(something, 'html.parser')"
   ]
  },
  {
   "cell_type": "code",
   "execution_count": 14,
   "metadata": {},
   "outputs": [],
   "source": [
    "aa = soup.find_all(id='remarks')"
   ]
  },
  {
   "cell_type": "code",
   "execution_count": 18,
   "metadata": {},
   "outputs": [
    {
     "name": "stdout",
     "output_type": "stream",
     "text": [
      "At times, water is pumped from the river about 8 mi upstream to fill the wetlands in the Maple River State Game Area. Some of the water is returned to the river at a later date, when water levels in the wetlands are lowered.\n"
     ]
    }
   ],
   "source": [
    "for xx in aa:\n",
    "    print(xx.get_text().replace('REMARKS - ', ''))"
   ]
  },
  {
   "cell_type": "code",
   "execution_count": null,
   "metadata": {
    "collapsed": true
   },
   "outputs": [],
   "source": []
  }
 ],
 "metadata": {
  "kernelspec": {
   "display_name": "Python [default]",
   "language": "python",
   "name": "python2"
  },
  "language_info": {
   "codemirror_mode": {
    "name": "ipython",
    "version": 2
   },
   "file_extension": ".py",
   "mimetype": "text/x-python",
   "name": "python",
   "nbconvert_exporter": "python",
   "pygments_lexer": "ipython2",
   "version": "2.7.12"
  }
 },
 "nbformat": 4,
 "nbformat_minor": 2
}
