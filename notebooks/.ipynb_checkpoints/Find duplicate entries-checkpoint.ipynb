{
 "cells": [
  {
   "cell_type": "code",
   "execution_count": null,
   "metadata": {},
   "outputs": [],
   "source": []
  },
  {
   "cell_type": "code",
   "execution_count": null,
   "metadata": {},
   "outputs": [],
   "source": []
  },
  {
   "cell_type": "markdown",
   "metadata": {},
   "source": [
    "## Check NWIS streamgage sites for multiple time-series"
   ]
  },
  {
   "cell_type": "code",
   "execution_count": 1,
   "metadata": {},
   "outputs": [],
   "source": [
    "# workdir = '/Users/pnorton/Projects/Streamflow_CONUS/datapull_CONUS_20210205'\n",
    "workdir = '/Users/pnorton/Projects/Streamflow_CONUS/datapull_CONUS_monthly_20210209'"
   ]
  },
  {
   "cell_type": "code",
   "execution_count": null,
   "metadata": {},
   "outputs": [],
   "source": []
  },
  {
   "cell_type": "code",
   "execution_count": 4,
   "metadata": {},
   "outputs": [
    {
     "name": "stdout",
     "output_type": "stream",
     "text": [
      "01368000 {'194263', '95958'}\n",
      "01465500 {'118216', '118217'}\n",
      "01475510 {'118531', '243032'}\n",
      "01574500 {'225534', '119563'}\n"
     ]
    }
   ],
   "source": [
    "cfile = f'{workdir}/conus_monthly_HUC_02_obs'\n",
    "\n",
    "fhdl = open(cfile, 'r')\n",
    "rawdata = fhdl.read().splitlines()\n",
    "fhdl.close()\n",
    "it = iter(rawdata)\n",
    "\n",
    "next(it)\n",
    "\n",
    "sites = {}\n",
    "\n",
    "for line in it:\n",
    "    fields = line.split('\\t')\n",
    "    site_no = fields[1]\n",
    "    ts_id = fields[3]\n",
    "    \n",
    "    if site_no not in sites:\n",
    "        sites[site_no] = set()\n",
    "    sites[site_no].add(ts_id)\n",
    "    \n",
    "for kk, vv in sites.items():\n",
    "    if len(vv) > 1:\n",
    "        print(kk, vv)"
   ]
  },
  {
   "cell_type": "code",
   "execution_count": 13,
   "metadata": {},
   "outputs": [],
   "source": [
    "a = set()"
   ]
  },
  {
   "cell_type": "code",
   "execution_count": null,
   "metadata": {},
   "outputs": [],
   "source": []
  }
 ],
 "metadata": {
  "kernelspec": {
   "display_name": "Python [conda env:bandit_38]",
   "language": "python",
   "name": "conda-env-bandit_38-py"
  },
  "language_info": {
   "codemirror_mode": {
    "name": "ipython",
    "version": 3
   },
   "file_extension": ".py",
   "mimetype": "text/x-python",
   "name": "python",
   "nbconvert_exporter": "python",
   "pygments_lexer": "ipython3",
   "version": "3.9.1"
  }
 },
 "nbformat": 4,
 "nbformat_minor": 4
}
