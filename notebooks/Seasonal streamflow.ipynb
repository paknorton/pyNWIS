{
 "cells": [
  {
   "cell_type": "code",
   "execution_count": null,
   "metadata": {},
   "outputs": [],
   "source": []
  },
  {
   "cell_type": "code",
   "execution_count": 4,
   "metadata": {},
   "outputs": [],
   "source": [
    "import numpy as np\n",
    "import pandas as pd"
   ]
  },
  {
   "cell_type": "code",
   "execution_count": 5,
   "metadata": {},
   "outputs": [],
   "source": [
    "workdir = '/Users/pnorton/Projects/Streamflow_CONUS/datapull_CONUS_daily_20210208'\n",
    "\n",
    "stnfile = f'{workdir}/conus_daily_HUC_19_stn'"
   ]
  },
  {
   "cell_type": "code",
   "execution_count": 12,
   "metadata": {},
   "outputs": [],
   "source": [
    "stn_col_names = ['site_no', 'station_nm', 'dec_lat_va', 'dec_long_va',\n",
    "                 'drain_area_va',\n",
    "                 # 'coord_datum_cd', 'alt_va', 'huc_cd', 'drain_area_va',\n",
    "                 'contrib_drain_area_va']\n",
    "stn_col_types = [np.str_, np.str_, np.float_, np.float_, np.float_, np.float_]\n",
    "# stn_col_types = [np.str_, np.str_, np.float_, np.float_, np.str_, np.float_,\n",
    "#                  np.str_, np.float_, np.float_]\n",
    "stn_cols = dict(zip(stn_col_names, stn_col_types))\n",
    "\n",
    "stations = pd.read_csv(stnfile, sep='\\t', usecols=stn_col_names, dtype=np.str_)"
   ]
  },
  {
   "cell_type": "code",
   "execution_count": 13,
   "metadata": {},
   "outputs": [
    {
     "name": "stdout",
     "output_type": "stream",
     "text": [
      "<class 'pandas.core.frame.DataFrame'>\n",
      "RangeIndex: 535 entries, 0 to 534\n",
      "Data columns (total 6 columns):\n",
      " #   Column                 Non-Null Count  Dtype \n",
      "---  ------                 --------------  ----- \n",
      " 0   site_no                535 non-null    object\n",
      " 1   station_nm             535 non-null    object\n",
      " 2   dec_lat_va             535 non-null    object\n",
      " 3   dec_long_va            535 non-null    object\n",
      " 4   drain_area_va          494 non-null    object\n",
      " 5   contrib_drain_area_va  2 non-null      object\n",
      "dtypes: object(6)\n",
      "memory usage: 25.2+ KB\n"
     ]
    }
   ],
   "source": [
    "stations.info()"
   ]
  },
  {
   "cell_type": "code",
   "execution_count": 14,
   "metadata": {},
   "outputs": [],
   "source": [
    "for dd in stations.columns:\n",
    "    if stn_cols[dd] == np.float_:\n",
    "#         stations[dd] = stations[dd].convert_objects(convert_numeric='force')\n",
    "        stations[dd] = pd.to_numeric(stations[dd], errors='coerce', downcast='float')"
   ]
  },
  {
   "cell_type": "code",
   "execution_count": 15,
   "metadata": {},
   "outputs": [
    {
     "name": "stdout",
     "output_type": "stream",
     "text": [
      "<class 'pandas.core.frame.DataFrame'>\n",
      "RangeIndex: 535 entries, 0 to 534\n",
      "Data columns (total 6 columns):\n",
      " #   Column                 Non-Null Count  Dtype  \n",
      "---  ------                 --------------  -----  \n",
      " 0   site_no                535 non-null    object \n",
      " 1   station_nm             535 non-null    object \n",
      " 2   dec_lat_va             535 non-null    float32\n",
      " 3   dec_long_va            535 non-null    float32\n",
      " 4   drain_area_va          494 non-null    float32\n",
      " 5   contrib_drain_area_va  2 non-null      float32\n",
      "dtypes: float32(4), object(2)\n",
      "memory usage: 16.8+ KB\n"
     ]
    }
   ],
   "source": [
    "stations.info()"
   ]
  },
  {
   "cell_type": "code",
   "execution_count": 17,
   "metadata": {},
   "outputs": [
    {
     "data": {
      "text/html": [
       "<div>\n",
       "<style scoped>\n",
       "    .dataframe tbody tr th:only-of-type {\n",
       "        vertical-align: middle;\n",
       "    }\n",
       "\n",
       "    .dataframe tbody tr th {\n",
       "        vertical-align: top;\n",
       "    }\n",
       "\n",
       "    .dataframe thead th {\n",
       "        text-align: right;\n",
       "    }\n",
       "</style>\n",
       "<table border=\"1\" class=\"dataframe\">\n",
       "  <thead>\n",
       "    <tr style=\"text-align: right;\">\n",
       "      <th></th>\n",
       "      <th>site_no</th>\n",
       "      <th>station_nm</th>\n",
       "      <th>dec_lat_va</th>\n",
       "      <th>dec_long_va</th>\n",
       "      <th>drain_area_va</th>\n",
       "      <th>contrib_drain_area_va</th>\n",
       "    </tr>\n",
       "  </thead>\n",
       "  <tbody>\n",
       "    <tr>\n",
       "      <th>0</th>\n",
       "      <td>15008000</td>\n",
       "      <td>SALMON R NR HYDER AK</td>\n",
       "      <td>56.025814</td>\n",
       "      <td>-130.066986</td>\n",
       "      <td>107.000000</td>\n",
       "      <td>NaN</td>\n",
       "    </tr>\n",
       "    <tr>\n",
       "      <th>1</th>\n",
       "      <td>15009000</td>\n",
       "      <td>SOULE R NR HYDER AK</td>\n",
       "      <td>55.833027</td>\n",
       "      <td>-130.183365</td>\n",
       "      <td>77.300003</td>\n",
       "      <td>NaN</td>\n",
       "    </tr>\n",
       "    <tr>\n",
       "      <th>2</th>\n",
       "      <td>15010000</td>\n",
       "      <td>DAVIS R NR HYDER AK</td>\n",
       "      <td>55.749695</td>\n",
       "      <td>-130.201706</td>\n",
       "      <td>78.699997</td>\n",
       "      <td>NaN</td>\n",
       "    </tr>\n",
       "    <tr>\n",
       "      <th>3</th>\n",
       "      <td>15011500</td>\n",
       "      <td>RED R NR METLAKATLA AK</td>\n",
       "      <td>55.141056</td>\n",
       "      <td>-130.532242</td>\n",
       "      <td>45.299999</td>\n",
       "      <td>NaN</td>\n",
       "    </tr>\n",
       "    <tr>\n",
       "      <th>4</th>\n",
       "      <td>15011870</td>\n",
       "      <td>WHITE C NR KETCHIKAN AK</td>\n",
       "      <td>55.413841</td>\n",
       "      <td>-130.462250</td>\n",
       "      <td>2.700000</td>\n",
       "      <td>NaN</td>\n",
       "    </tr>\n",
       "    <tr>\n",
       "      <th>...</th>\n",
       "      <td>...</td>\n",
       "      <td>...</td>\n",
       "      <td>...</td>\n",
       "      <td>...</td>\n",
       "      <td>...</td>\n",
       "      <td>...</td>\n",
       "    </tr>\n",
       "    <tr>\n",
       "      <th>530</th>\n",
       "      <td>654022149035900</td>\n",
       "      <td>HESS C AB FISH C NR LIVENGOOD AK</td>\n",
       "      <td>65.672333</td>\n",
       "      <td>-149.068924</td>\n",
       "      <td>NaN</td>\n",
       "      <td>NaN</td>\n",
       "    </tr>\n",
       "    <tr>\n",
       "      <th>531</th>\n",
       "      <td>671529150110500</td>\n",
       "      <td>SLATE C NR WISEMAN AK</td>\n",
       "      <td>67.257622</td>\n",
       "      <td>-150.187454</td>\n",
       "      <td>NaN</td>\n",
       "      <td>NaN</td>\n",
       "    </tr>\n",
       "    <tr>\n",
       "      <th>532</th>\n",
       "      <td>675538149511100</td>\n",
       "      <td>KUYUKTUVUK C 1MI AB DIETRICH R NR WISEMAN AK</td>\n",
       "      <td>67.926819</td>\n",
       "      <td>-149.855835</td>\n",
       "      <td>NaN</td>\n",
       "      <td>NaN</td>\n",
       "    </tr>\n",
       "    <tr>\n",
       "      <th>533</th>\n",
       "      <td>680355165294500</td>\n",
       "      <td>KISIMILOK C NR KIVALINA</td>\n",
       "      <td>68.064575</td>\n",
       "      <td>-165.498795</td>\n",
       "      <td>NaN</td>\n",
       "      <td>NaN</td>\n",
       "    </tr>\n",
       "    <tr>\n",
       "      <th>534</th>\n",
       "      <td>680630165510000</td>\n",
       "      <td>NASORAK C NR PT HOPE AK</td>\n",
       "      <td>68.107620</td>\n",
       "      <td>-165.852966</td>\n",
       "      <td>NaN</td>\n",
       "      <td>NaN</td>\n",
       "    </tr>\n",
       "  </tbody>\n",
       "</table>\n",
       "<p>535 rows × 6 columns</p>\n",
       "</div>"
      ],
      "text/plain": [
       "             site_no                                    station_nm  \\\n",
       "0           15008000                          SALMON R NR HYDER AK   \n",
       "1           15009000                           SOULE R NR HYDER AK   \n",
       "2           15010000                           DAVIS R NR HYDER AK   \n",
       "3           15011500                        RED R NR METLAKATLA AK   \n",
       "4           15011870                       WHITE C NR KETCHIKAN AK   \n",
       "..               ...                                           ...   \n",
       "530  654022149035900              HESS C AB FISH C NR LIVENGOOD AK   \n",
       "531  671529150110500                         SLATE C NR WISEMAN AK   \n",
       "532  675538149511100  KUYUKTUVUK C 1MI AB DIETRICH R NR WISEMAN AK   \n",
       "533  680355165294500                       KISIMILOK C NR KIVALINA   \n",
       "534  680630165510000                       NASORAK C NR PT HOPE AK   \n",
       "\n",
       "     dec_lat_va  dec_long_va  drain_area_va  contrib_drain_area_va  \n",
       "0     56.025814  -130.066986     107.000000                    NaN  \n",
       "1     55.833027  -130.183365      77.300003                    NaN  \n",
       "2     55.749695  -130.201706      78.699997                    NaN  \n",
       "3     55.141056  -130.532242      45.299999                    NaN  \n",
       "4     55.413841  -130.462250       2.700000                    NaN  \n",
       "..          ...          ...            ...                    ...  \n",
       "530   65.672333  -149.068924            NaN                    NaN  \n",
       "531   67.257622  -150.187454            NaN                    NaN  \n",
       "532   67.926819  -149.855835            NaN                    NaN  \n",
       "533   68.064575  -165.498795            NaN                    NaN  \n",
       "534   68.107620  -165.852966            NaN                    NaN  \n",
       "\n",
       "[535 rows x 6 columns]"
      ]
     },
     "execution_count": 17,
     "metadata": {},
     "output_type": "execute_result"
    }
   ],
   "source": [
    "stations.head(1000)"
   ]
  },
  {
   "cell_type": "code",
   "execution_count": 19,
   "metadata": {},
   "outputs": [
    {
     "data": {
      "text/plain": [
       "'1959-01'"
      ]
     },
     "execution_count": 19,
     "metadata": {},
     "output_type": "execute_result"
    }
   ],
   "source": [
    "a = '1959-01-01'\n",
    "a[0:7]"
   ]
  },
  {
   "cell_type": "code",
   "execution_count": null,
   "metadata": {},
   "outputs": [],
   "source": []
  }
 ],
 "metadata": {
  "kernelspec": {
   "display_name": "Python [conda env:bandit_38]",
   "language": "python",
   "name": "conda-env-bandit_38-py"
  },
  "language_info": {
   "codemirror_mode": {
    "name": "ipython",
    "version": 3
   },
   "file_extension": ".py",
   "mimetype": "text/x-python",
   "name": "python",
   "nbconvert_exporter": "python",
   "pygments_lexer": "ipython3",
   "version": "3.9.1"
  }
 },
 "nbformat": 4,
 "nbformat_minor": 4
}
